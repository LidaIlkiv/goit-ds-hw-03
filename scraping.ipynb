{
 "cells": [
  {
   "cell_type": "code",
   "execution_count": 1,
   "metadata": {},
   "outputs": [],
   "source": [
    "import requests\n",
    "from bs4 import BeautifulSoup\n"
   ]
  },
  {
   "cell_type": "code",
   "execution_count": 2,
   "metadata": {},
   "outputs": [],
   "source": [
    "i = 1\n",
    "authors_list = []\n",
    "quotes_list = []\n",
    "while True:\n",
    "    \n",
    "    main_url = 'https://quotes.toscrape.com'\n",
    "    page_url = main_url +'/page/' + str(i)\n",
    "    \n",
    "\n",
    "    html_doc = requests.get(page_url)\n",
    "    if html_doc.status_code == 200:    \n",
    "        soup = BeautifulSoup(html_doc.text, 'html.parser')\n",
    "        author_links = soup.select('div.quote >span > a')        \n",
    "        \n",
    "        for link in author_links:\n",
    "            author_url = link.get('href')\n",
    "            author_page_url = main_url + author_url\n",
    "            html_author_page = requests.get(author_page_url)\n",
    "            if html_author_page.status_code == 200:\n",
    "                soup_author_page = BeautifulSoup(html_author_page.text, 'html.parser')\n",
    "                fullname = soup_author_page.select('div.author-details > h3.author-title')[0].text\n",
    "                born_date = soup_author_page.select('p > span.author-born-date')[0].text\n",
    "                born_location = soup_author_page.select('p > span.author-born-location')[0].text\n",
    "                description = soup_author_page.select('div.author-description')[0].text.strip()\n",
    "                dct = {\n",
    "                    \"fullname\": fullname,\n",
    "                    \"born_date\": born_date,\n",
    "                    \"born_location\": born_location,\n",
    "                    \"description\": description\n",
    "                    }\n",
    "                if dct not in authors_list:\n",
    "                    authors_list.append(dct)               \n",
    "        quotes_divs = soup.select('div.quote')\n",
    "        for quote_div in quotes_divs:\n",
    "            tags = quote_div.select_one('div.tags > meta.keywords').get('content').split(',')\n",
    "            author_name = quote_div.select_one('div.quote > span > small.author').text\n",
    "            quote = quote_div.select_one('div.quote > span.text').text.strip()\n",
    "                                \n",
    "            quotes_list.append({\n",
    "                \"tags\": tags,\n",
    "                \"author\": author_name,\n",
    "                \"quote\": quote\n",
    "                })  \n",
    "            \n",
    "    next_page = soup.select('ul.pager > li.next > a')\n",
    "    if not next_page:            \n",
    "        break\n",
    "    i+= 1\n",
    "\n",
    "    \n"
   ]
  },
  {
   "cell_type": "code",
   "execution_count": 3,
   "metadata": {},
   "outputs": [],
   "source": [
    "import json\n",
    "with open('authors.json', 'w', encoding= 'utf-8') as f:\n",
    "    json.dump(authors_list, f, ensure_ascii=False, indent=4)"
   ]
  },
  {
   "cell_type": "code",
   "execution_count": 4,
   "metadata": {},
   "outputs": [],
   "source": [
    "with open('quotes.json', 'w', encoding= 'utf-8') as f2:\n",
    "    json.dump(quotes_list, f2, ensure_ascii=False, indent=4)"
   ]
  }
 ],
 "metadata": {
  "kernelspec": {
   "display_name": "Python 3",
   "language": "python",
   "name": "python3"
  },
  "language_info": {
   "codemirror_mode": {
    "name": "ipython",
    "version": 3
   },
   "file_extension": ".py",
   "mimetype": "text/x-python",
   "name": "python",
   "nbconvert_exporter": "python",
   "pygments_lexer": "ipython3",
   "version": "3.12.2"
  }
 },
 "nbformat": 4,
 "nbformat_minor": 2
}
